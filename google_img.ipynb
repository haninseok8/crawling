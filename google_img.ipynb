{
 "cells": [
  {
   "cell_type": "code",
   "execution_count": 47,
   "metadata": {},
   "outputs": [],
   "source": [
    "from urllib.request import urlretrieve\n",
    "from urllib.parse import quote_plus    # korean support\n",
    "from bs4 import BeautifulSoup as bs    # Essential module\n",
    "from selenium import webdriver         # Google crolling\n",
    "import time\n",
    "\n",
    "def google_img(keyword,num):\n",
    "    \n",
    "    i_URL = f'https://www.google.com/search?q={quote_plus(keyword)}&sxsrf=ALeKk00OQamJ34t56QSInnMzwcC5gC344w:1594968011157&source=lnms&tbm=isch&sa=X&ved=2ahUKEwjXs-7t1tPqAhVF7GEKHfM4DqsQ_AUoAXoECBoQAw&biw=1536&bih=754'\n",
    "\n",
    "    driver= webdriver.Chrome('chromedriver.exe')\n",
    "    options = webdriver.ChromeOptions()\n",
    "    options.add_experimental_option('excludeSwitches', ['enable-logging'])\n",
    "    driver.get(i_URL)\n",
    "    \n",
    "    last_height = driver.execute_script(\"return document.body.scrollHeight\")\n",
    "\n",
    "    for i in range(num):\n",
    "        driver.execute_script(\"window.scrollTo(0, document.body.scrollHeight);\")\n",
    "        time.sleep(2)\n",
    "        \n",
    "        new_height = driver.execute_script(\"return document.body.scrollHeight\") \n",
    "        \n",
    "        if new_height == last_height: \n",
    "            try: \n",
    "                driver.find_element_by_css_selector(\".mye4qd\").click() \n",
    "            except: \n",
    "                break \n",
    "        last_height = new_height\n",
    "\n",
    "\n",
    "    html = driver.page_source\n",
    "    soup = bs(html,features=\"html.parser\")\n",
    "    img = soup.select('img')\n",
    "\n",
    "    i_list = []\n",
    "    count = 0\n",
    "\n",
    "    print(\"Searching...\")\n",
    "\n",
    "    for i in img:\n",
    "       try:\n",
    "          i_list.append(i.attrs[\"src\"])\n",
    "       except KeyError:\n",
    "          i_list.append(i.attrs[\"data-src\"])\n",
    "\n",
    "    print(\"Downloading...\")\n",
    "    for i in i_list:\n",
    "        count+=1\n",
    "        urlretrieve(i,\"download/\"+keyword+\"_\"+str(count)+\".jpg\")\n",
    "    \n",
    "    print(\"{}개 image downloaded\".format(count))\n",
    "    driver.close()\n",
    "    print(\"FINISH\")"
   ]
  },
  {
   "cell_type": "code",
   "execution_count": null,
   "metadata": {},
   "outputs": [],
   "source": [
    "keyword = input(\"Input keyword : \")\n",
    "num = input(\"count(약 *100개) : \")\n",
    "\n",
    "print(\"-----------------------\")\n",
    "google_img(keyword,int(num)-1)"
   ]
  },
  {
   "cell_type": "code",
   "execution_count": null,
   "metadata": {},
   "outputs": [],
   "source": [
    "from PIL import Image\n",
    "import os, sys\n",
    "\n",
    "path = \"download/\"\n",
    "dirs = os.listdir( path )\n",
    "\n",
    "def resize(x,y):\n",
    "    for item in dirs:\n",
    "        if os.path.isfile(path+item):\n",
    "            im = Image.open(path+item)\n",
    "            f, e = os.path.splitext(path+item)\n",
    "            imResize = im.resize((x,y), Image.ANTIALIAS)\n",
    "            imResize.save(path +item +'resized.jpg','JPEG', quality=90)\n"
   ]
  },
  {
   "cell_type": "code",
   "execution_count": null,
   "metadata": {},
   "outputs": [],
   "source": [
    "x,y = input(\"size : \").split(',')\n",
    "\n",
    "resize(int(x),int(y))"
   ]
  },
  {
   "cell_type": "code",
   "execution_count": null,
   "metadata": {},
   "outputs": [],
   "source": []
  }
 ],
 "metadata": {
  "kernelspec": {
   "display_name": "Python 3",
   "language": "python",
   "name": "python3"
  },
  "language_info": {
   "codemirror_mode": {
    "name": "ipython",
    "version": 3
   },
   "file_extension": ".py",
   "mimetype": "text/x-python",
   "name": "python",
   "nbconvert_exporter": "python",
   "pygments_lexer": "ipython3",
   "version": "3.7.2"
  }
 },
 "nbformat": 4,
 "nbformat_minor": 4
}
